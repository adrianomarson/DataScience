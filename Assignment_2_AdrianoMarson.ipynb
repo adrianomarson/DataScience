{
 "cells": [
  {
   "cell_type": "markdown",
   "metadata": {},
   "source": [
    "# SCS_3251_049 Statistics for Data Science - Assignment 2\n",
    "## Adriano Motta Marson\n"
   ]
  },
  {
   "cell_type": "markdown",
   "metadata": {},
   "source": [
    "## Monty Hall problem\n",
    "\n",
    "Given below is the description of the problem.\n",
    "\n",
    "Suppose you're on a game show and you're given the choice of three doors.\n",
    "\n",
    "Behind one door is a car; behind the others, goats. The car and the goats were placed randomly behind the doors before the show.\n",
    "\n",
    "The rules are:\n",
    "\n",
    "After you have chosen a door, the door remains closed for the time being. The game show host, Monty Hall, who knows what is behind the doors, now has to open one of the two remaining doors, and the door he opens must have a goat behind it. If both remaining doors have goats behind them, he chooses one randomly.\n",
    "\n",
    "After Monty opens a door with a goat, he will ask you to decide whether you want to stay with your first choice or to switch to the last remaining door. Imagine that you chose Door 1 and the host opens Door 3, which has a goat. He then asks you \"Do you want to switch to Door Number 2?\" Is it to your advantage to change your choice?\n",
    "\n",
    "<b>NOTES:</b>\n",
    "\n",
    "The player may initially choose any of the three doors (not just Door 1).\n",
    "\n",
    "The host opens a different door revealing a goat (not necessarily Door 3).\n",
    "\n",
    "The host gives the player a second choice between the two remaining unopened doors.\n",
    "\n",
    "<b>Write Python code to solve the Monty Hall problem. Simulate at least a thousand games using three doors for each strategy and show the results in such a way as to make it easy to compare the effects of each strategy.</b>"
   ]
  },
  {
   "cell_type": "code",
   "execution_count": null,
   "metadata": {},
   "outputs": [],
   "source": [
    "# Import libraries\n",
    "import numpy as np\n",
    "import matplotlib.pyplot as plt\n",
    "import seaborn as sns\n",
    "\n",
    "def simulate(strategy):\n",
    "    doors = [0, 0, 0]\n",
    "    car_door = np.random.randint(0, 2)\n",
    "    doors[car_door] = 1\n",
    "    player_door = np.random.randint(0, 2)\n",
    "    \n",
    "    # goat door (one or two)\n",
    "    goat_doors=[]\n",
    "    for i in range(3):\n",
    "        if i != player_door and i != car_door:\n",
    "            goat_doors.append(i)\n",
    "\n",
    "    # Monty Hall door\n",
    "    monty_door = np.random.choice(goat_doors)\n",
    "\n",
    "    if strategy == \"stay\":\n",
    "        if doors[player_door] == 1:\n",
    "            return \"win\"\n",
    "        else:\n",
    "            return \"lose\"\n",
    "    elif strategy == \"switch\":\n",
    "        for i in range(3):\n",
    "            if i != player_door and i != monty_door:\n",
    "                switched_door = i\n",
    "        if doors[switched_door] == 1:\n",
    "            return \"win\"\n",
    "        else:\n",
    "            return \"lose\"\n",
    "\n",
    "\n",
    "# number of simulations\n",
    "simulation = 1000\n",
    "# dictionary to store the total win for each strategy\n",
    "result = {\"stay_win\": 0, \"switch_win\": 0}\n",
    "# arrays to store percent of win for each simulation and strategy \n",
    "rate_of_stay = []\n",
    "rate_of_switch = []\n",
    "\n",
    "for i in range(simulation):\n",
    "    result_stay = simulate(\"stay\")\n",
    "    if result_stay == \"win\":\n",
    "        result[\"stay_win\"] += 1\n",
    "    result_switch = simulate(\"switch\")\n",
    "    if result_switch == \"win\":\n",
    "        result[\"switch_win\"] += 1\n",
    "\n",
    "    rate_of_stay.append(result[\"stay_win\"]*100/(i+1))\n",
    "    rate_of_switch.append(result[\"switch_win\"]*100/(i+1))\n",
    "\n",
    "print(\"Stayed: \", result[\"stay_win\"], \",\", round((result[\"stay_win\"]/simulation)*100,2), \"%\" )\n",
    "print(\"Switched: \", result[\"switch_win\"], \",\", round((result[\"switch_win\"]/simulation)*100,2), \"%\" )\n"
   ]
  },
  {
   "cell_type": "code",
   "execution_count": null,
   "metadata": {},
   "outputs": [],
   "source": [
    "# barplot with numbers of wins for each strategy\n",
    "names = list(result.keys())\n",
    "values = list(result.values())\n",
    "sns.set_theme()\n",
    "ax = sns.barplot(x=names, y=values) \n",
    "ax.set(title='Wins by Strategy')\n",
    "# show bar values\n",
    "for i in ax.containers:\n",
    "    ax.bar_label(i,)\n"
   ]
  },
  {
   "cell_type": "code",
   "execution_count": null,
   "metadata": {},
   "outputs": [],
   "source": [
    "# line chart for each strategy\n",
    "ax = plt.plot(rate_of_stay, label='Stayed with first choice')\n",
    "ax = plt.plot(rate_of_switch, label='Switched doors')\n",
    "\n",
    "plt.xlim(0,simulation)\n",
    "plt.xlabel('Number of Simulations')\n",
    "plt.ylabel('Win rate (%)')\n",
    "plt.title('Simulations by Strategy (wins)')\n",
    "plt.legend()\n",
    "plt.show()"
   ]
  }
 ],
 "metadata": {
  "kernelspec": {
   "display_name": "Python 3 (ipykernel)",
   "language": "python",
   "name": "python3"
  },
  "language_info": {
   "codemirror_mode": {
    "name": "ipython",
    "version": 3
   },
   "file_extension": ".py",
   "mimetype": "text/x-python",
   "name": "python",
   "nbconvert_exporter": "python",
   "pygments_lexer": "ipython3",
   "version": "3.9.12"
  },
  "vscode": {
   "interpreter": {
    "hash": "377a803a277b65a00741af58c2a8a8444e1ff10eabe70caf123eb0aab62a920e"
   }
  }
 },
 "nbformat": 4,
 "nbformat_minor": 4
}
