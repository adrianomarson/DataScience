{
 "cells": [
  {
   "cell_type": "markdown",
   "metadata": {},
   "source": [
    "# SCS_3251_049 Statistics for Data Science - Assignment 1\n",
    "## Adriano Motta Marson\n"
   ]
  },
  {
   "cell_type": "markdown",
   "metadata": {},
   "source": [
    "__Question:__ Write the code to implement the data simulation demonstrated in the above mentioned video. Calculate the probability of obtaining the experiment outcome.\n",
    "\n",
    "In this assignment, you will be writing code to implement a permutation test.\n",
    "\n",
    "This assignment demonstrates the main idea of statistical inference, which will be discussed in detail later in the course. However, we do not need a solid theoretical background to answer the questions in this assignment. To find if the experimentally observed difference (approx. 4.4) between two subsets is statistically significant, we need to calculate the probability of observing this difference by chance. In other words, you will need to calculate how likely it is to obtain the outcome just by chance, when there is no association. (e.g. Beer consumption does not attract more mosquitos, etc)\n",
    " \n",
    "To find this probability, we will need a large number of experiments. But we don't have them. We have only 1 experiment with 43 volunteers (25 in beer and 18 in water subgroups).  To solve the problem, we may simulate this experiment. First of all, we assume that there is no difference and the outcome is just by chance. If the assumption is true, then there is no difference between observations in subgroups and any number from the beer group could be in the water group, and vice versa. It implies that we may randomly shuffle data - move numbers between subgroups and each time compute the average number for each subgroup and take their difference. In the end, we should get the distribution of experimental outcomes or the results of many simulated experiments. This is called a permutation test.\n",
    "\n",
    "After that, we could just count the number of experiments with outcome 4.4 and find the probability as (# of experiments with diff =4.4)/(total number of experiments). In this case, the total number of experiments serves as the number of trials and the number of experiments with outcome 4.4 serves as the number of plausible outcomes. __Note: round the difference to the first decimal.__\n",
    "\n",
    "Since it was assumed that there is no difference and data were randomly shuffled, this probability will show us the likelihood of having obtained this outcome by chance.\n",
    "\n",
    "There are many ways to implement the data swap between two arrays. It may be the 'shuffle()' method from 'numpy.random'. For two arrays 'array1' of length 25 and 'array2' of length 18 we may:\n",
    "1. concatenate them to form a combined array\n",
    "2. shuffle combined array: numpy.random.shuffle(combined)\n",
    "3. split the shuffled array into two arrays of length 25 and 18. Now we have a new 'experiment'. Calculate the mean for each array and take the difference.\n",
    "4. repeat approximetaly 10,000 times and count number of simulations with difference >= 4.4.\n",
    "\n",
    "Other ways to swap data would be to use numpy.random.permutation() or write a function to swap a random number of items between arrays.\n",
    "\n",
    "If the latter probability is too small, one can conclude that it is very unlikely to get such an observation by chance and the skeptical ‘no association’ hypothesis can be rejected. Usually, this probability is compared to the preset significance level.   \n",
    "\n",
    "Here, assuming no association means that data from two parts of dataset can be shuffled. If there is no association any observation (number of mosquitos attracted to volunteer) from 'beer' group could come from the 'water' group and vice versa. No association assumption means that these observations could be randomly shuffled. Say you did between 1000 and 10000 shuffles every time the mean for each subgroup is computed and the mean difference is found. So in the end the array of the mean differences is expected (say 1000 in length).\n",
    "\n",
    "One can compute how many times the experimental difference ( approx. 4.4) occurs in the simulated array. Or better compute how many items in simulated array have values larger than 4.4.  Then the probability is ratio of number of items divided by the length of array.\n",
    "\n",
    "Why the second option is more suitable will become clear later in the course. For the first assignment either option of calculating probabilities is acceptable.  "
   ]
  },
  {
   "cell_type": "code",
   "execution_count": 1,
   "metadata": {},
   "outputs": [],
   "source": [
    "# Import Numpy library, rename as \"np\"\n",
    "import numpy as np\n",
    "# Import Pandas library, rename as \"pd\"\n",
    "import pandas as pd\n",
    "# Import pyplot from matplot, rename as \"pd\"\n",
    "import matplotlib.pyplot as plt\n",
    "#%matplotlib inline\n",
    "import seaborn as sns"
   ]
  },
  {
   "cell_type": "code",
   "execution_count": 2,
   "metadata": {},
   "outputs": [],
   "source": [
    "# read dataset\n",
    "df_mosquito = pd.read_csv('mosquitos_data.csv')"
   ]
  },
  {
   "cell_type": "code",
   "execution_count": 3,
   "metadata": {},
   "outputs": [
    {
     "name": "stdout",
     "output_type": "stream",
     "text": [
      "<class 'pandas.core.frame.DataFrame'>\n",
      "RangeIndex: 43 entries, 0 to 42\n",
      "Data columns (total 2 columns):\n",
      " #   Column     Non-Null Count  Dtype \n",
      "---  ------     --------------  ----- \n",
      " 0   Response   43 non-null     int64 \n",
      " 1   Treatment  43 non-null     object\n",
      "dtypes: int64(1), object(1)\n",
      "memory usage: 816.0+ bytes\n"
     ]
    }
   ],
   "source": [
    "# check dataset info\n",
    "df_mosquito.info()"
   ]
  },
  {
   "cell_type": "code",
   "execution_count": 4,
   "metadata": {},
   "outputs": [
    {
     "data": {
      "text/html": [
       "<div>\n",
       "<style scoped>\n",
       "    .dataframe tbody tr th:only-of-type {\n",
       "        vertical-align: middle;\n",
       "    }\n",
       "\n",
       "    .dataframe tbody tr th {\n",
       "        vertical-align: top;\n",
       "    }\n",
       "\n",
       "    .dataframe thead th {\n",
       "        text-align: right;\n",
       "    }\n",
       "</style>\n",
       "<table border=\"1\" class=\"dataframe\">\n",
       "  <thead>\n",
       "    <tr style=\"text-align: right;\">\n",
       "      <th></th>\n",
       "      <th>Response</th>\n",
       "      <th>Treatment</th>\n",
       "    </tr>\n",
       "  </thead>\n",
       "  <tbody>\n",
       "    <tr>\n",
       "      <th>0</th>\n",
       "      <td>27</td>\n",
       "      <td>Beer</td>\n",
       "    </tr>\n",
       "    <tr>\n",
       "      <th>1</th>\n",
       "      <td>20</td>\n",
       "      <td>Beer</td>\n",
       "    </tr>\n",
       "    <tr>\n",
       "      <th>2</th>\n",
       "      <td>21</td>\n",
       "      <td>Beer</td>\n",
       "    </tr>\n",
       "    <tr>\n",
       "      <th>3</th>\n",
       "      <td>26</td>\n",
       "      <td>Beer</td>\n",
       "    </tr>\n",
       "    <tr>\n",
       "      <th>4</th>\n",
       "      <td>27</td>\n",
       "      <td>Beer</td>\n",
       "    </tr>\n",
       "    <tr>\n",
       "      <th>5</th>\n",
       "      <td>31</td>\n",
       "      <td>Beer</td>\n",
       "    </tr>\n",
       "    <tr>\n",
       "      <th>6</th>\n",
       "      <td>24</td>\n",
       "      <td>Beer</td>\n",
       "    </tr>\n",
       "    <tr>\n",
       "      <th>7</th>\n",
       "      <td>21</td>\n",
       "      <td>Beer</td>\n",
       "    </tr>\n",
       "    <tr>\n",
       "      <th>8</th>\n",
       "      <td>20</td>\n",
       "      <td>Beer</td>\n",
       "    </tr>\n",
       "    <tr>\n",
       "      <th>9</th>\n",
       "      <td>19</td>\n",
       "      <td>Beer</td>\n",
       "    </tr>\n",
       "  </tbody>\n",
       "</table>\n",
       "</div>"
      ],
      "text/plain": [
       "   Response Treatment\n",
       "0        27      Beer\n",
       "1        20      Beer\n",
       "2        21      Beer\n",
       "3        26      Beer\n",
       "4        27      Beer\n",
       "5        31      Beer\n",
       "6        24      Beer\n",
       "7        21      Beer\n",
       "8        20      Beer\n",
       "9        19      Beer"
      ]
     },
     "execution_count": 4,
     "metadata": {},
     "output_type": "execute_result"
    }
   ],
   "source": [
    "df_mosquito.head(10)"
   ]
  },
  {
   "cell_type": "code",
   "execution_count": 5,
   "metadata": {},
   "outputs": [
    {
     "data": {
      "text/plain": [
       "Treatment\n",
       "Beer     25\n",
       "Water    18\n",
       "Name: Treatment, dtype: int64"
      ]
     },
     "execution_count": 5,
     "metadata": {},
     "output_type": "execute_result"
    }
   ],
   "source": [
    "# verify count of each group\n",
    "df_mosquito.groupby(['Treatment'])['Treatment'].count()"
   ]
  },
  {
   "cell_type": "code",
   "execution_count": 5,
   "metadata": {},
   "outputs": [
    {
     "data": {
      "text/plain": [
       "<AxesSubplot:xlabel='Treatment', ylabel='Response'>"
      ]
     },
     "execution_count": 5,
     "metadata": {},
     "output_type": "execute_result"
    },
    {
     "data": {
      "image/png": "[encoded data removed]",
      "text/plain": [
       "<Figure size 640x480 with 1 Axes>"
      ]
     },
     "metadata": {},
     "output_type": "display_data"
    }
   ],
   "source": [
    "# boxplot for the number of mosquitos in each group\n",
    "sns.boxplot(x=\"Treatment\", y=\"Response\", data=df_mosquito)"
   ]
  },
  {
   "cell_type": "code",
   "execution_count": 6,
   "metadata": {},
   "outputs": [
    {
     "name": "stdout",
     "output_type": "stream",
     "text": [
      "Beer Response\n",
      "Mean:  23.6\n",
      "Median:  24.0\n",
      "Standard Deviation:  4.133198922545748\n"
     ]
    }
   ],
   "source": [
    "# basic statistc for beer response\n",
    "print(\"Beer Response\")\n",
    "print(\"Mean: \",df_mosquito[df_mosquito['Treatment'] == 'Beer']['Response'].mean())\n",
    "print(\"Median: \",df_mosquito[df_mosquito['Treatment'] == 'Beer']['Response'].median())\n",
    "print(\"Standard Deviation: \",df_mosquito[df_mosquito['Treatment'] == 'Beer']['Response'].std())"
   ]
  },
  {
   "cell_type": "code",
   "execution_count": 7,
   "metadata": {},
   "outputs": [
    {
     "name": "stdout",
     "output_type": "stream",
     "text": [
      "Water Response\n",
      "Mean:  19.22222222222222\n",
      "Median:  20.0\n",
      "Standard Deviation:  3.6711202899124045\n"
     ]
    }
   ],
   "source": [
    "# basic statistc for water response\n",
    "print(\"Water Response\")\n",
    "print(\"Mean: \",df_mosquito[df_mosquito['Treatment'] == 'Water']['Response'].mean())\n",
    "print(\"Median: \",df_mosquito[df_mosquito['Treatment'] == 'Water']['Response'].median())\n",
    "print(\"Standard Deviation: \",df_mosquito[df_mosquito['Treatment'] == 'Water']['Response'].std())"
   ]
  },
  {
   "cell_type": "markdown",
   "metadata": {},
   "source": [
    "<b>According to the data, beer consumption makes the individual more attractive to mosquitoes, where the average attractiveness is 23.6 against 19.22 for individuals who consumed water as can be seen also in the graph. We can also observe the existence of a slightly larger standard deviation for the group that drank beer.</b>"
   ]
  },
  {
   "cell_type": "code",
   "execution_count": 8,
   "metadata": {},
   "outputs": [],
   "source": [
    "# array of all response\n",
    "arr_mosquito = np.asarray(df_mosquito[\"Response\"])"
   ]
  },
  {
   "cell_type": "code",
   "execution_count": 9,
   "metadata": {},
   "outputs": [
    {
     "name": "stdout",
     "output_type": "stream",
     "text": [
      "Difference:  4.4\n"
     ]
    }
   ],
   "source": [
    "mean_original = round(np.mean(df_mosquito[df_mosquito['Treatment'] == 'Beer']['Response'])\n",
    "             -np.mean(df_mosquito[df_mosquito['Treatment'] == 'Water']['Response']),1)\n",
    "print(\"Difference: \", mean_original)"
   ]
  },
  {
   "cell_type": "code",
   "execution_count": 10,
   "metadata": {},
   "outputs": [
    {
     "name": "stdout",
     "output_type": "stream",
     "text": [
      "Superior or iqual to 4.4:  7\n",
      "Probability:  0.0007\n"
     ]
    }
   ],
   "source": [
    "# simulation with permutation test\n",
    "\n",
    "N = 10000 # number of repeats\n",
    "\n",
    "# number of treatment = beer \n",
    "n = df_mosquito[df_mosquito['Treatment'] == 'Beer']['Response'].count()\n",
    "\n",
    "# variable to store times of diference >= 4.4\n",
    "sup4_4 = 0\n",
    "\n",
    "# array to store all differences\n",
    "allDiferences = np.array([])\n",
    "\n",
    "\n",
    "# loop\n",
    "for i in range(N):\n",
    "    # shuffle the array items\n",
    "    mosquito = np.random.permutation(arr_mosquito)\n",
    "    \n",
    "    # split into two subgroups and compute the difference of means\n",
    "    mean_p = round(np.mean(mosquito[:n]) - np.mean(mosquito[n:]),1)\n",
    "    \n",
    "    if mean_p >= mean_original:\n",
    "        sup4_4 += 1\n",
    "\n",
    "    # append the current mean to the arrays of results\n",
    "    allDiferences = np.append(allDiferences, mean_p)\n",
    "\n",
    "\n",
    "# result\n",
    "print(\"Superior or iqual to 4.4: \", sup4_4)\n",
    "print(\"Probability: \", sup4_4/N)"
   ]
  },
  {
   "cell_type": "code",
   "execution_count": 11,
   "metadata": {},
   "outputs": [
    {
     "data": {
      "text/plain": [
       "<matplotlib.lines.Line2D at 0x7f829c1b3dc0>"
      ]
     },
     "execution_count": 11,
     "metadata": {},
     "output_type": "execute_result"
    },
    {
     "data": {
      "image/png": "[encoded data removed]",
      "text/plain": [
       "<Figure size 640x480 with 1 Axes>"
      ]
     },
     "metadata": {},
     "output_type": "display_data"
    }
   ],
   "source": [
    "# histogram of permutation\n",
    "sns.histplot(data=allDiferences)\n",
    "# add line of 4.4\n",
    "plt.axvline(linewidth=1, color='r', x=mean_original, linestyle='--')"
   ]
  },
  {
   "cell_type": "code",
   "execution_count": null,
   "metadata": {},
   "outputs": [],
   "source": []
  }
 ],
 "metadata": {
  "kernelspec": {
   "display_name": "base",
   "language": "python",
   "name": "python3"
  },
  "language_info": {
   "codemirror_mode": {
    "name": "ipython",
    "version": 3
   },
   "file_extension": ".py",
   "mimetype": "text/x-python",
   "name": "python",
   "nbconvert_exporter": "python",
   "pygments_lexer": "ipython3",
   "version": "3.9.12"
  },
  "vscode": {
   "interpreter": {
    "hash": "377a803a277b65a00741af58c2a8a8444e1ff10eabe70caf123eb0aab62a920e"
   }
  }
 },
 "nbformat": 4,
 "nbformat_minor": 2
}
